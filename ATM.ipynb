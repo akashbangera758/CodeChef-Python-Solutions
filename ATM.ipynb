{
 "cells": [
  {
   "cell_type": "code",
   "execution_count": 40,
   "metadata": {},
   "outputs": [
    {
     "name": "stdout",
     "output_type": "stream",
     "text": [
      "2000 2000.00\n",
      "2000.00\n"
     ]
    }
   ],
   "source": [
    "amount, balance = raw_input().split()\n",
    "integral, frac = balance.split(\".\")\n",
    "if len(frac) == 2 and float(amount) <= 2000 and float(balance) <= 2000:\n",
    "    if float(amount) % 5 != 0 or (float(amount) + 0.5) > float(balance):\n",
    "        print balance\n",
    "    else:\n",
    "        print \"{0:0.2f}\".format(float(balance) - float(amount) - 0.50)\n",
    "else:\n",
    "    print balance"
   ]
  },
  {
   "cell_type": "code",
   "execution_count": null,
   "metadata": {},
   "outputs": [],
   "source": []
  }
 ],
 "metadata": {
  "kernelspec": {
   "display_name": "Python 2",
   "language": "python",
   "name": "python2"
  },
  "language_info": {
   "codemirror_mode": {
    "name": "ipython",
    "version": 2
   },
   "file_extension": ".py",
   "mimetype": "text/x-python",
   "name": "python",
   "nbconvert_exporter": "python",
   "pygments_lexer": "ipython2",
   "version": "2.7.10"
  }
 },
 "nbformat": 4,
 "nbformat_minor": 2
}
