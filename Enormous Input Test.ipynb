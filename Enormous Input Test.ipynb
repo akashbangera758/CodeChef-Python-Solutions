{
 "cells": [
  {
   "cell_type": "code",
   "execution_count": 29,
   "metadata": {},
   "outputs": [
    {
     "name": "stdout",
     "output_type": "stream",
     "text": [
      "3 2\n",
      "2\n",
      "5\n",
      "8\n",
      "2\n"
     ]
    }
   ],
   "source": [
    "import numpy as np\n",
    "n, k = raw_input().split()\n",
    "n, k = [int(n), int(k)]\n",
    "count = 0\n",
    "if n <= 10**7 and k <= 10**7:\n",
    "    for i in range(n):\n",
    "        t = int(raw_input())\n",
    "        if t <= 10**9:\n",
    "            if t % k ==0:\n",
    "                count += 1\n",
    "    print count"
   ]
  }
 ],
 "metadata": {
  "kernelspec": {
   "display_name": "Python 2",
   "language": "python",
   "name": "python2"
  },
  "language_info": {
   "codemirror_mode": {
    "name": "ipython",
    "version": 2
   },
   "file_extension": ".py",
   "mimetype": "text/x-python",
   "name": "python",
   "nbconvert_exporter": "python",
   "pygments_lexer": "ipython2",
   "version": "2.7.10"
  }
 },
 "nbformat": 4,
 "nbformat_minor": 2
}
