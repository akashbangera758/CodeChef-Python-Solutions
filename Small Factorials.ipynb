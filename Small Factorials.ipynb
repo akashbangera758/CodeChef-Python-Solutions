{
 "cells": [
  {
   "cell_type": "code",
   "execution_count": 20,
   "metadata": {},
   "outputs": [
    {
     "name": "stdout",
     "output_type": "stream",
     "text": [
      "3\n",
      "1\n",
      "3\n",
      "5\n",
      "1\n",
      "6\n",
      "120\n"
     ]
    }
   ],
   "source": [
    "import numpy as np\n",
    "import math\n",
    "t = int(raw_input())\n",
    "if 1 <= t <= 100:\n",
    "    inputs = np.array([])\n",
    "    for i in range(t):\n",
    "        inputs = np.append(inputs, int(raw_input()))\n",
    "    for k in inputs:\n",
    "        if 1 <= k <= 100:\n",
    "            print int(math.factorial(k))"
   ]
  }
 ],
 "metadata": {
  "kernelspec": {
   "display_name": "Python 2",
   "language": "python",
   "name": "python2"
  },
  "language_info": {
   "codemirror_mode": {
    "name": "ipython",
    "version": 2
   },
   "file_extension": ".py",
   "mimetype": "text/x-python",
   "name": "python",
   "nbconvert_exporter": "python",
   "pygments_lexer": "ipython2",
   "version": "2.7.10"
  }
 },
 "nbformat": 4,
 "nbformat_minor": 2
}
